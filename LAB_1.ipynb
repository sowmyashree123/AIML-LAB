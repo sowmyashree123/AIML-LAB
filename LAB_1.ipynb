{
  "nbformat": 4,
  "nbformat_minor": 0,
  "metadata": {
    "colab": {
      "provenance": [],
      "gpuType": "T4",
      "authorship_tag": "ABX9TyNoOW30Ay2DuHKQ2GJ9Aarm",
      "include_colab_link": true
    },
    "kernelspec": {
      "name": "python3",
      "display_name": "Python 3"
    },
    "language_info": {
      "name": "python"
    },
    "accelerator": "GPU"
  },
  "cells": [
    {
      "cell_type": "markdown",
      "metadata": {
        "id": "view-in-github",
        "colab_type": "text"
      },
      "source": [
        "<a href=\"https://colab.research.google.com/github/sowmyashree123/AIML-LAB/blob/main/LAB_1.ipynb\" target=\"_parent\"><img src=\"https://colab.research.google.com/assets/colab-badge.svg\" alt=\"Open In Colab\"/></a>"
      ]
    },
    {
      "cell_type": "code",
      "execution_count": null,
      "metadata": {
        "id": "C_2M3OjiEtrG"
      },
      "outputs": [],
      "source": []
    },
    {
      "cell_type": "markdown",
      "source": [
        "**My first program**"
      ],
      "metadata": {
        "id": "7zclHIpmFggH"
      }
    },
    {
      "cell_type": "code",
      "source": [
        "print(\"Hello world\")"
      ],
      "metadata": {
        "colab": {
          "base_uri": "https://localhost:8080/"
        },
        "id": "V8qVFVDiFpI_",
        "outputId": "47256866-faa1-4a42-dd46-56e699ca664c"
      },
      "execution_count": null,
      "outputs": [
        {
          "output_type": "stream",
          "name": "stdout",
          "text": [
            "Hello world\n"
          ]
        }
      ]
    },
    {
      "cell_type": "code",
      "source": [
        "def add(x,y):\n",
        "  return x+y"
      ],
      "metadata": {
        "id": "EaFmsQi_F2zn"
      },
      "execution_count": null,
      "outputs": []
    },
    {
      "cell_type": "code",
      "source": [
        "add(2,3)"
      ],
      "metadata": {
        "colab": {
          "base_uri": "https://localhost:8080/"
        },
        "id": "yX28LQQBGFdv",
        "outputId": "23725eff-f815-4202-d010-2ffa984b181d"
      },
      "execution_count": null,
      "outputs": [
        {
          "output_type": "execute_result",
          "data": {
            "text/plain": [
              "5"
            ]
          },
          "metadata": {},
          "execution_count": 3
        }
      ]
    },
    {
      "cell_type": "code",
      "source": [
        "import keyword\n",
        "print(keyword.kwlist)\n",
        "a=len(keyword.kwlist)\n",
        "print(a)"
      ],
      "metadata": {
        "colab": {
          "base_uri": "https://localhost:8080/"
        },
        "id": "6lqKBBxeJW5_",
        "outputId": "194a40e8-a539-4b45-f875-d3ab120839be"
      },
      "execution_count": null,
      "outputs": [
        {
          "output_type": "stream",
          "name": "stdout",
          "text": [
            "['False', 'None', 'True', 'and', 'as', 'assert', 'async', 'await', 'break', 'class', 'continue', 'def', 'del', 'elif', 'else', 'except', 'finally', 'for', 'from', 'global', 'if', 'import', 'in', 'is', 'lambda', 'nonlocal', 'not', 'or', 'pass', 'raise', 'return', 'try', 'while', 'with', 'yield']\n",
            "35\n"
          ]
        }
      ]
    },
    {
      "cell_type": "code",
      "source": [
        "\"\"\"\n",
        "multi line comment\n",
        "how are you all\n",
        "have a nice day guys\n",
        "\"\"\"\n",
        "print(\"hello CSE people\")"
      ],
      "metadata": {
        "colab": {
          "base_uri": "https://localhost:8080/"
        },
        "id": "mcXUevhyKOcX",
        "outputId": "225778db-c5e8-4d04-96d3-13fe0c1e9293"
      },
      "execution_count": null,
      "outputs": [
        {
          "output_type": "stream",
          "name": "stdout",
          "text": [
            "hello CSE people\n"
          ]
        }
      ]
    },
    {
      "cell_type": "code",
      "source": [
        "a=50\n",
        "b=90\n",
        "c=a+b\n",
        "c"
      ],
      "metadata": {
        "colab": {
          "base_uri": "https://localhost:8080/"
        },
        "id": "7bG0xMreLT9X",
        "outputId": "2bcf5eea-725b-4682-e5d9-13731199968b"
      },
      "execution_count": null,
      "outputs": [
        {
          "output_type": "execute_result",
          "data": {
            "text/plain": [
              "140"
            ]
          },
          "metadata": {},
          "execution_count": 6
        }
      ]
    },
    {
      "cell_type": "code",
      "source": [
        "type(c)"
      ],
      "metadata": {
        "colab": {
          "base_uri": "https://localhost:8080/"
        },
        "id": "37F3OkumLr4W",
        "outputId": "6278ed8f-7ddf-42ee-b9db-e4616b6835ad"
      },
      "execution_count": null,
      "outputs": [
        {
          "output_type": "execute_result",
          "data": {
            "text/plain": [
              "int"
            ]
          },
          "metadata": {},
          "execution_count": 7
        }
      ]
    },
    {
      "cell_type": "code",
      "source": [
        "x='hello'"
      ],
      "metadata": {
        "id": "oAkicCR-LvfO"
      },
      "execution_count": null,
      "outputs": []
    },
    {
      "cell_type": "code",
      "source": [
        "type(x)"
      ],
      "metadata": {
        "colab": {
          "base_uri": "https://localhost:8080/"
        },
        "id": "qWjENQbbL0Ae",
        "outputId": "2bbc91a3-ddea-40ee-a916-d83e13a74104"
      },
      "execution_count": null,
      "outputs": [
        {
          "output_type": "execute_result",
          "data": {
            "text/plain": [
              "str"
            ]
          },
          "metadata": {},
          "execution_count": 9
        }
      ]
    },
    {
      "cell_type": "code",
      "source": [
        "c=1.0\n",
        "type(c)"
      ],
      "metadata": {
        "colab": {
          "base_uri": "https://localhost:8080/"
        },
        "id": "38vU5OIcL3J-",
        "outputId": "851ec430-6982-4429-cc55-64fbb41e23a4"
      },
      "execution_count": null,
      "outputs": [
        {
          "output_type": "execute_result",
          "data": {
            "text/plain": [
              "float"
            ]
          },
          "metadata": {},
          "execution_count": 10
        }
      ]
    },
    {
      "cell_type": "code",
      "source": [
        "c=True\n",
        "type(c)"
      ],
      "metadata": {
        "colab": {
          "base_uri": "https://localhost:8080/"
        },
        "id": "h1Tk4ZuAL9Pf",
        "outputId": "6b89a6d2-7ffa-448f-b22d-6d0fd3fed0da"
      },
      "execution_count": null,
      "outputs": [
        {
          "output_type": "execute_result",
          "data": {
            "text/plain": [
              "bool"
            ]
          },
          "metadata": {},
          "execution_count": 11
        }
      ]
    },
    {
      "cell_type": "code",
      "source": [
        "l1=[1,2,3,4]\n",
        "for i in l1:\n",
        "  print(i)"
      ],
      "metadata": {
        "colab": {
          "base_uri": "https://localhost:8080/"
        },
        "id": "MpRUSloIMrov",
        "outputId": "6b418080-87dc-4126-ce7b-1d0db53ee944"
      },
      "execution_count": null,
      "outputs": [
        {
          "output_type": "stream",
          "name": "stdout",
          "text": [
            "1\n",
            "2\n",
            "3\n",
            "4\n"
          ]
        }
      ]
    },
    {
      "cell_type": "code",
      "source": [
        "str1=input(\"Enter a name\")\n",
        "rev_str=str1[::-1]\n",
        "if str1==rev_str:\n",
        "  print(\"It is a palindrome\")\n",
        "else:\n",
        "  print(\"It is not palindrome\")"
      ],
      "metadata": {
        "colab": {
          "base_uri": "https://localhost:8080/"
        },
        "id": "3AaPv_Y_NQh2",
        "outputId": "8c8c6d4c-3f67-4aed-c698-9d974a830035"
      },
      "execution_count": null,
      "outputs": [
        {
          "output_type": "stream",
          "name": "stdout",
          "text": [
            "Enter a namemom\n",
            "It is a palindrome\n"
          ]
        }
      ]
    },
    {
      "cell_type": "code",
      "source": [
        "l1=[1,1,1,1,2,2,2,3,3,4,4,5]\n",
        "l2=[]\n",
        "for x in l1:\n",
        "  if x not in l2:\n",
        "    l2.append(x)\n",
        "l2"
      ],
      "metadata": {
        "colab": {
          "base_uri": "https://localhost:8080/"
        },
        "id": "YRu3o4ejPBP-",
        "outputId": "b807e3c6-2c15-4ab8-eb6c-8599e18338de"
      },
      "execution_count": null,
      "outputs": [
        {
          "output_type": "execute_result",
          "data": {
            "text/plain": [
              "[1, 2, 3, 4, 5]"
            ]
          },
          "metadata": {},
          "execution_count": 15
        }
      ]
    },
    {
      "cell_type": "code",
      "source": [
        "l3=list(set(l1))\n",
        "l3"
      ],
      "metadata": {
        "colab": {
          "base_uri": "https://localhost:8080/"
        },
        "id": "UCK2sBdqPzeP",
        "outputId": "5c219827-df03-4033-9c8f-aa02023416cb"
      },
      "execution_count": null,
      "outputs": [
        {
          "output_type": "execute_result",
          "data": {
            "text/plain": [
              "[1, 2, 3, 4, 5]"
            ]
          },
          "metadata": {},
          "execution_count": 16
        }
      ]
    },
    {
      "cell_type": "code",
      "source": [
        "import random\n",
        "numbers=[1,2,3,4,5,6]\n",
        "random.shuffle(numbers)\n",
        "print(numbers)"
      ],
      "metadata": {
        "colab": {
          "base_uri": "https://localhost:8080/"
        },
        "id": "TH5WQuDvQe12",
        "outputId": "8291d85c-5e96-42a9-9aa0-61b5b2e263a4"
      },
      "execution_count": null,
      "outputs": [
        {
          "output_type": "stream",
          "name": "stdout",
          "text": [
            "[2, 5, 3, 1, 4, 6]\n"
          ]
        }
      ]
    },
    {
      "cell_type": "code",
      "source": [
        "numbers=[1,2,34]\n",
        "n=sum(numbers)\n",
        "print(n)"
      ],
      "metadata": {
        "colab": {
          "base_uri": "https://localhost:8080/"
        },
        "id": "Nkle7MtmRuIH",
        "outputId": "0634b35a-71ff-48a8-c3c9-0b9d9d3e8bd0"
      },
      "execution_count": null,
      "outputs": [
        {
          "output_type": "stream",
          "name": "stdout",
          "text": [
            "37\n"
          ]
        }
      ]
    },
    {
      "cell_type": "code",
      "source": [
        "a=[10,20]\n",
        "b=3*a\n",
        "print(b)"
      ],
      "metadata": {
        "colab": {
          "base_uri": "https://localhost:8080/"
        },
        "id": "8AdJ8H-xSaUW",
        "outputId": "79fb7eb5-51cc-49ba-ccfe-589960452d55"
      },
      "execution_count": null,
      "outputs": [
        {
          "output_type": "stream",
          "name": "stdout",
          "text": [
            "[10, 20, 10, 20, 10, 20]\n"
          ]
        }
      ]
    },
    {
      "cell_type": "code",
      "source": [
        "days=[\"monday\",\"tuesday\",\"wednesday\",\"thursday\"]\n",
        "\"wednesday\"in days"
      ],
      "metadata": {
        "colab": {
          "base_uri": "https://localhost:8080/"
        },
        "id": "OBR4p-dYSndP",
        "outputId": "83062148-d6b5-44d7-b522-74282bb016ab"
      },
      "execution_count": null,
      "outputs": [
        {
          "output_type": "execute_result",
          "data": {
            "text/plain": [
              "True"
            ]
          },
          "metadata": {},
          "execution_count": 20
        }
      ]
    },
    {
      "cell_type": "code",
      "source": [
        "a=[\"a\",\"b\",\"c\"]\n",
        "print(a)\n",
        "a.append(\"d\")\n",
        "print(a)\n"
      ],
      "metadata": {
        "colab": {
          "base_uri": "https://localhost:8080/"
        },
        "id": "MKiv7w8RTaWH",
        "outputId": "f9fd4f79-5731-4345-eb0d-3ab3f498f352"
      },
      "execution_count": null,
      "outputs": [
        {
          "output_type": "stream",
          "name": "stdout",
          "text": [
            "['a', 'b', 'c']\n",
            "['a', 'b', 'c', 'd']\n"
          ]
        }
      ]
    }
  ]
}